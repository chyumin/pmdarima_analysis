{
 "cells": [
  {
   "cell_type": "markdown",
   "id": "f8563314",
   "metadata": {},
   "source": [
    "### Analysis of pmdarima (Python's auto\\_arima implementation) performance with COVID19 data from Brazil\n"
   ]
  },
  {
   "cell_type": "code",
   "execution_count": 1,
   "id": "41b49742",
   "metadata": {},
   "outputs": [],
   "source": [
    "import pmdarima as pmd\n",
    "import numpy as np\n",
    "import pandas as pd"
   ]
  },
  {
   "cell_type": "code",
   "execution_count": 2,
   "id": "5ec6df54",
   "metadata": {},
   "outputs": [],
   "source": [
    "filename = 'covid.csv'\n",
    "full_df = pd.read_csv(filename, low_memory=False)"
   ]
  },
  {
   "cell_type": "code",
   "execution_count": 3,
   "id": "f00f673e",
   "metadata": {},
   "outputs": [],
   "source": [
    "def filter_by_state(df, state, filter_zero=False):\n",
    "    \"\"\"\n",
    "    Returns a filtered dataframe by state\n",
    "\n",
    "    Logic: Doesn't have \"codmun\" (county code) and match \"estado\" (state)\n",
    "    \"\"\"\n",
    "    filt_df = df[df['codmun'].isnull() & (df['estado'] == state)]\n",
    "    if filter_zero:\n",
    "        filt_df = filt_df[filt_df['casosAcumulado'] != 0]\n",
    "    filt_df = filt_df.drop_duplicates('data')\n",
    "    return filt_df\n",
    "\n",
    "\n",
    "def filter_brazil(df, filter_zero=False):\n",
    "    \"\"\"\n",
    "    Returns a filtered dataframe for Brazil\n",
    "\n",
    "    Logic: \"regiao\" (region) equals 'Brasil'\n",
    "    \"\"\"\n",
    "    filt_df = df[df['regiao'] == 'Brasil']\n",
    "    if filter_zero:\n",
    "        filt_df = filt_df[filt_df['casosAcumulado'] != 0]\n",
    "    filt_df = filt_df.drop_duplicates('data')\n",
    "    return filt_df"
   ]
  },
  {
   "cell_type": "code",
   "execution_count": 4,
   "id": "71cbaad6",
   "metadata": {},
   "outputs": [],
   "source": [
    "def predict(df, start_date, end_date, pred_days):\n",
    "    \"\"\"\n",
    "    Predicts COVID-19 cumulative cases using auto_arima\n",
    "\n",
    "    Args:\n",
    "        date_limit (str): Example: 2020-04-19 (year-month-day)\n",
    "\n",
    "    Returns:\n",
    "        Dict with with following keys: prediction, smape, state and arima_order\n",
    "    \"\"\"\n",
    "    df['data'] = pd.to_datetime(df['data'], format='%Y-%m-%d')\n",
    "    df.set_index('data', inplace=True)\n",
    "    cases_array = df.loc[start_date:end_date]['casosAcumulado'].values\n",
    "    train, test = cases_array[:-pred_days], cases_array[-pred_days:]\n",
    "    fit = pmd.auto_arima(train.astype('float32'))\n",
    "    prediction = fit.predict(pred_days)\n",
    "    res = pmd.metrics.smape(test, prediction)\n",
    "    return {\n",
    "        'prediction': prediction,\n",
    "        'smape': res,\n",
    "        'arima_order': fit.order\n",
    "    }"
   ]
  },
  {
   "cell_type": "markdown",
   "id": "6e18cc8e",
   "metadata": {},
   "source": [
    "### Short-term forecasting COVID-19 cumulative confirmed cases: Perspectives for Brazil\n",
    "https://www.sciencedirect.com/science/article/pii/S0960077920302538"
   ]
  },
  {
   "cell_type": "code",
   "execution_count": 5,
   "id": "a22f7e65",
   "metadata": {},
   "outputs": [],
   "source": [
    "from collections import namedtuple\n",
    "\n",
    "StateData = namedtuple('StateData', ['state', 'start_date', 'end_date'])\n",
    "\n",
    "states_data = [\n",
    "    StateData(state='AM', start_date='2020-03-13', end_date='2020-04-19'),\n",
    "    StateData(state='BA', start_date='2020-03-06', end_date='2020-04-19'),\n",
    "    StateData(state='CE', start_date='2020-03-16', end_date='2020-04-19'),\n",
    "    StateData(state='MG', start_date='2020-03-08', end_date='2020-04-19'),\n",
    "    StateData(state='PR', start_date='2020-03-12', end_date='2020-04-18'),\n",
    "    StateData(state='RJ', start_date='2020-03-05', end_date='2020-04-19'),\n",
    "    StateData(state='RN', start_date='2020-03-12', end_date='2020-04-18'),\n",
    "    StateData(state='RS', start_date='2020-03-10', end_date='2020-04-19'),\n",
    "    StateData(state='SC', start_date='2020-03-12', end_date='2020-04-19'),\n",
    "    StateData(state='SP', start_date='2020-02-25', end_date='2020-04-19')\n",
    "]"
   ]
  },
  {
   "cell_type": "code",
   "execution_count": 6,
   "id": "978ee324",
   "metadata": {
    "scrolled": true
   },
   "outputs": [
    {
     "name": "stdout",
     "output_type": "stream",
     "text": [
      "Results for 1 day\n",
      "AM - ARIMA(1, 2, 0) - sMAPE: 2.853771123088597\n",
      "BA - ARIMA(0, 2, 1) - sMAPE: 7.024365409817703\n",
      "CE - ARIMA(1, 2, 0) - sMAPE: 3.6361667360872687\n",
      "MG - ARIMA(0, 2, 3) - sMAPE: 2.873270035554388\n",
      "PR - ARIMA(0, 2, 1) - sMAPE: 4.088562098078861\n",
      "RJ - ARIMA(2, 2, 2) - sMAPE: 1.7162745845322167\n",
      "RN - ARIMA(0, 2, 1) - sMAPE: 4.347176624348275\n",
      "RS - ARIMA(0, 2, 3) - sMAPE: 1.0041421940773971\n",
      "SC - ARIMA(0, 2, 1) - sMAPE: 2.6997299797208862\n",
      "SP - ARIMA(0, 2, 1) - sMAPE: 3.660998626710932\n"
     ]
    }
   ],
   "source": [
    "print('Results for 1 day')\n",
    "for state_data in states_data:\n",
    "    state_df = filter_by_state(full_df, state_data.state)\n",
    "    res = predict(state_df, state_data.start_date, state_data.end_date, pred_days=1)\n",
    "    print('%s - ARIMA%s - sMAPE: %s' % (state_data.state, res['arima_order'], res['smape']))"
   ]
  },
  {
   "cell_type": "code",
   "execution_count": 7,
   "id": "356e243b",
   "metadata": {
    "scrolled": false
   },
   "outputs": [
    {
     "name": "stdout",
     "output_type": "stream",
     "text": [
      "Results for 3 days\n",
      "AM - ARIMA(1, 2, 0) - sMAPE: 1.3183252603310427\n",
      "BA - ARIMA(2, 2, 0) - sMAPE: 2.203271727286451\n",
      "CE - ARIMA(2, 2, 0) - sMAPE: 6.487606123636027\n",
      "MG - ARIMA(0, 2, 2) - sMAPE: 4.4317986104711125\n",
      "PR - ARIMA(0, 2, 1) - sMAPE: 2.91911589673431\n",
      "RJ - ARIMA(1, 2, 2) - sMAPE: 1.5306286737158497\n",
      "RN - ARIMA(1, 2, 1) - sMAPE: 7.069237053244531\n",
      "RS - ARIMA(0, 2, 3) - sMAPE: 0.5155951693431876\n",
      "SC - ARIMA(0, 2, 1) - sMAPE: 1.1454918156355303\n",
      "SP - ARIMA(2, 2, 1) - sMAPE: 10.139626416451057\n"
     ]
    }
   ],
   "source": [
    "print('Results for 3 days')\n",
    "for state_data in states_data:\n",
    "    state_df = filter_by_state(full_df, state_data.state)\n",
    "    res = predict(state_df, state_data.start_date, state_data.end_date, pred_days=3)\n",
    "    print('%s - ARIMA%s - sMAPE: %s' % (state_data.state, res['arima_order'], res['smape']))"
   ]
  },
  {
   "cell_type": "code",
   "execution_count": 8,
   "id": "8fd4d3df",
   "metadata": {
    "scrolled": true
   },
   "outputs": [
    {
     "name": "stdout",
     "output_type": "stream",
     "text": [
      "Predictions for 6 days\n",
      "AM - ARIMA(1, 2, 0) - sMAPE: 7.092452040482091\n",
      "BA - ARIMA(2, 2, 2) - sMAPE: 11.56505517325585\n",
      "CE - ARIMA(0, 2, 2) - sMAPE: 17.760496276764385\n",
      "MG - ARIMA(2, 2, 0) - sMAPE: 6.453437760618954\n",
      "PR - ARIMA(0, 2, 1) - sMAPE: 8.34343040734601\n",
      "RJ - ARIMA(1, 2, 3) - sMAPE: 3.03632740534907\n",
      "RN - ARIMA(1, 1, 0) - sMAPE: 19.62120992742239\n",
      "RS - ARIMA(2, 2, 1) - sMAPE: 11.05747133723962\n",
      "SC - ARIMA(0, 2, 1) - sMAPE: 3.4715926249892965\n",
      "SP - ARIMA(1, 2, 1) - sMAPE: 19.753858814467925\n"
     ]
    }
   ],
   "source": [
    "print('Predictions for 6 days')\n",
    "for state_data in states_data:\n",
    "    state_df = filter_by_state(full_df, state_data.state)\n",
    "    res = predict(state_df, state_data.start_date, state_data.end_date, pred_days=6)\n",
    "    print('%s - ARIMA%s - sMAPE: %s' % (state_data.state, res['arima_order'], res['smape']))"
   ]
  },
  {
   "cell_type": "markdown",
   "id": "5de09ba0",
   "metadata": {},
   "source": [
    "### Short-term forecasting of daily COVID-19 cases in Brazil by using the Holt’s model\n",
    "\n",
    "https://www.scielo.br/scielo.php?script=sci_arttext&pid=S0037-86822020000100643"
   ]
  },
  {
   "cell_type": "code",
   "execution_count": 9,
   "id": "0c832c5c",
   "metadata": {
    "scrolled": false
   },
   "outputs": [
    {
     "name": "stdout",
     "output_type": "stream",
     "text": [
      "Predictions for 8 days\n",
      "BR - ARIMA(1, 2, 0) - sMAPE: 1.6804520500749773\n",
      "SP - ARIMA(1, 2, 1) - sMAPE: 5.623936162071448\n",
      "MG - ARIMA(0, 2, 3) - sMAPE: 3.6264291829236317\n",
      "RJ - ARIMA(2, 2, 3) - sMAPE: 8.321438703701347\n"
     ]
    }
   ],
   "source": [
    "states = ['SP', 'MG', 'RJ']\n",
    "start_date='2020-01-01'\n",
    "end_date='2020-05-03'\n",
    "\n",
    "print('Predictions for 8 days')\n",
    "\n",
    "# Results for Brazil\n",
    "br_df = filter_brazil(full_df)\n",
    "res = predict(br_df, start_date, end_date, pred_days=8)\n",
    "print('BR - ARIMA%s - sMAPE: %s' % (res['arima_order'], res['smape']))\n",
    "\n",
    "\n",
    "for state in states:\n",
    "    state_df = filter_by_state(full_df, state, filter_zero=True)\n",
    "    res = predict(state_df, start_date, end_date, pred_days=8)\n",
    "    print('%s - ARIMA%s - sMAPE: %s' % (state, res['arima_order'], res['smape']))"
   ]
  },
  {
   "cell_type": "markdown",
   "id": "64c8ca16",
   "metadata": {},
   "source": [
    "##### Calculating sMAPE by the values given in the article"
   ]
  },
  {
   "cell_type": "code",
   "execution_count": 10,
   "id": "48de6c41",
   "metadata": {
    "scrolled": true
   },
   "outputs": [
    {
     "name": "stdout",
     "output_type": "stream",
     "text": [
      "sMAPE for BR: 1.888280586913778\n",
      "sMAPE for SP: 5.1030513515506275\n",
      "sMAPE for MG: 2.928723180486233\n",
      "sMAPE for RJ: 7.003955308533456\n"
     ]
    }
   ],
   "source": [
    "brazil_real = [61888, 66501, 71886, 78162, 85380, 91589, 96559, 101147]\n",
    "brazil_forecasted = [63598.77, 68898.82, 74198.86, 79498.91, 84798.95, 90099.00, 95399.05, 100699.09]\n",
    "print('sMAPE for BR:', pmd.metrics.smape(brazil_real, brazil_forecasted))\n",
    "\n",
    "SP_real = [20715, 21696, 24041, 26158, 28698, 30374, 31174, 31772]\n",
    "SP_forecasted = [21288.91, 22573.96, 23859.01, 25144.06, 26429.11, 27714.16, 28999.21, 30284.26]\n",
    "print('sMAPE for SP:', pmd.metrics.smape(SP_real, SP_forecasted))\n",
    "\n",
    "MG_real = [1548, 1586, 1649, 1758, 1827, 1935, 2023, 2118]\n",
    "MG_forecasted = [1537.80, 1600.34, 1662.89, 1725.44, 1787.99, 1850.54, 1913.09, 1975.64]\n",
    "print('sMAPE for MG:', pmd.metrics.smape(MG_real, MG_forecasted))\n",
    "\n",
    "RJ_real = [7111, 7944, 8504, 8869, 9453, 10166, 10546, 11139]\n",
    "RJ_forecasted = [7169.33, 7570.99, 7972.66, 8374.33, 8775.99, 9177.66, 9579.32, 9980.99]\n",
    "print('sMAPE for RJ:', pmd.metrics.smape(RJ_real, RJ_forecasted))"
   ]
  }
 ],
 "metadata": {
  "kernelspec": {
   "display_name": "isd",
   "language": "python",
   "name": "isd"
  },
  "language_info": {
   "codemirror_mode": {
    "name": "ipython",
    "version": 3
   },
   "file_extension": ".py",
   "mimetype": "text/x-python",
   "name": "python",
   "nbconvert_exporter": "python",
   "pygments_lexer": "ipython3",
   "version": "3.7.10"
  }
 },
 "nbformat": 4,
 "nbformat_minor": 5
}
